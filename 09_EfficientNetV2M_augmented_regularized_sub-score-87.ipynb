{
 "cells": [
  {
   "cell_type": "code",
   "execution_count": 1,
   "metadata": {
    "colab": {
     "base_uri": "https://localhost:8080/"
    },
    "id": "JPb-oepWMoel",
    "outputId": "a59a035e-f3b0-46be-cc49-dab1c766ab26"
   },
   "outputs": [
    {
     "name": "stdout",
     "output_type": "stream",
     "text": [
      "2.14.0\n"
     ]
    }
   ],
   "source": [
    "# Fix randomness and hide warnings\n",
    "seed = 42\n",
    "\n",
    "import os\n",
    "os.environ['TF_CPP_MIN_LOG_LEVEL'] = '3'\n",
    "os.environ['PYTHONHASHSEED'] = str(seed)\n",
    "os.environ['MPLCONFIGDIR'] = os.getcwd()+'/configs/'\n",
    "\n",
    "import warnings\n",
    "warnings.simplefilter(action='ignore', category=FutureWarning)\n",
    "warnings.simplefilter(action='ignore', category=Warning)\n",
    "\n",
    "import numpy as np\n",
    "np.random.seed(seed)\n",
    "\n",
    "import logging\n",
    "\n",
    "import random\n",
    "random.seed(seed)\n",
    "\n",
    "# Tensorflow\n",
    "import tensorflow as tf\n",
    "from tensorflow import keras as tfk\n",
    "from keras import layers as tfkl\n",
    "tf.autograph.set_verbosity(0)\n",
    "tf.get_logger().setLevel(logging.ERROR)\n",
    "tf.compat.v1.logging.set_verbosity(tf.compat.v1.logging.ERROR)\n",
    "tf.random.set_seed(seed)\n",
    "tf.compat.v1.set_random_seed(seed)\n",
    "print(tf.__version__)\n",
    "\n",
    "# Some libraries\n",
    "import matplotlib.pyplot as plt\n",
    "import pandas as pd\n",
    "from sklearn.model_selection import train_test_split\n",
    "from sklearn.metrics import accuracy_score, f1_score, precision_score, recall_score, confusion_matrix\n",
    "import seaborn as sns\n",
    "\n",
    "input_file = np.load('public_data.npz', allow_pickle=True)\n",
    "data = input_file['data']\n",
    "\n",
    "labels = input_file['labels']\n",
    "\n",
    "label_dict = {'healthy': 0, 'unhealthy': 1}\n",
    "labels = np.array([label_dict[label] for label in labels])\n"
   ]
  },
  {
   "cell_type": "code",
   "execution_count": 2,
   "metadata": {
    "id": "iyW8ZLuF7snN"
   },
   "outputs": [],
   "source": [
    "#data = data/255.0\n",
    "\n",
    "from keras.applications.efficientnet_v2 import preprocess_input\n",
    "data = preprocess_input(data)"
   ]
  },
  {
   "cell_type": "code",
   "execution_count": 3,
   "metadata": {
    "id": "K-INeLsUTutg"
   },
   "outputs": [],
   "source": [
    "shrek_indices = []\n",
    "trol_indices = []\n",
    "new_data = []\n",
    "new_labels = []\n",
    "for i, image in enumerate(data):\n",
    "  if np.sum(data[506] - image) == 0:\n",
    "    shrek_indices.append(i)\n",
    "  elif np.sum(data[338] - image) == 0:\n",
    "    trol_indices.append(i)\n",
    "  else:\n",
    "    new_data.append(image)\n",
    "    new_labels.append(labels[i])\n",
    "\n",
    "images = np.array(new_data)\n",
    "labels = np.array(new_labels)"
   ]
  },
  {
   "cell_type": "code",
   "execution_count": 4,
   "metadata": {
    "id": "2s7QHqECMsxi"
   },
   "outputs": [],
   "source": [
    "X_train, X_val, y_train, y_val = train_test_split(images, labels, test_size=0.1, stratify=labels, random_state=seed)"
   ]
  },
  {
   "cell_type": "code",
   "execution_count": 5,
   "metadata": {
    "id": "_cC_ZrfJNO1V"
   },
   "outputs": [],
   "source": [
    "input_shape = X_train.shape[1:]  # Input shape for the model"
   ]
  },
  {
   "cell_type": "code",
   "execution_count": 6,
   "metadata": {
    "id": "Nh9o9JVcNRWF"
   },
   "outputs": [],
   "source": [
    "learned_model = tfk.applications.EfficientNetV2M(\n",
    "    input_shape=(96, 96, 3),\n",
    "    include_top=False,\n",
    "    weights=\"imagenet\",\n",
    "    pooling='max',\n",
    ")"
   ]
  },
  {
   "cell_type": "code",
   "execution_count": 7,
   "metadata": {
    "id": "0WSPyd2hPcnp"
   },
   "outputs": [],
   "source": [
    "learned_model.trainable = True"
   ]
  },
  {
   "cell_type": "code",
   "execution_count": 8,
   "metadata": {
    "colab": {
     "base_uri": "https://localhost:8080/"
    },
    "id": "lcnVUT-5Pbz8",
    "outputId": "8aa9824d-1bf5-49f4-a141-e07d230ddac3"
   },
   "outputs": [],
   "source": [
    "N = 85\n",
    "for i, layer in enumerate(learned_model.layers[:N]):\n",
    "  layer.trainable=False"
   ]
  },
  {
   "cell_type": "code",
   "execution_count": 9,
   "metadata": {
    "id": "vRul5dEJNuHr"
   },
   "outputs": [],
   "source": [
    "preprocessing = tf.keras.Sequential([\n",
    "    tfkl.RandomFlip(\"horizontal_and_vertical\"),\n",
    "    tfkl.RandomRotation(0.9),\n",
    "    tfkl.GaussianNoise(0.3),\n",
    "    tfkl.RandomContrast(0.4),\n",
    "    tfkl.RandomBrightness(0.4),\n",
    "], name='preprocessing')\n",
    "\n",
    "\n",
    "input_layer = tfkl.Input(shape=input_shape)\n",
    "x = preprocessing(input_layer)"
   ]
  },
  {
   "cell_type": "code",
   "execution_count": 10,
   "metadata": {
    "id": "rq05G8FoO2f5"
   },
   "outputs": [],
   "source": [
    "x = learned_model(x)"
   ]
  },
  {
   "cell_type": "code",
   "execution_count": 11,
   "metadata": {
    "id": "Bn4-w2C9PMb9"
   },
   "outputs": [],
   "source": [
    "from keras import regularizers\n",
    "\n",
    "x = tfkl.Flatten(name='flattenLast')(x)\n",
    "x = tfkl.Dropout(0.2)(x)\n",
    "x = tfkl.Dense(512, activation='relu', name='Dense_1', kernel_regularizer=regularizers.l1_l2(0.01))(x)\n",
    "x = tfkl.Dropout(0.2)(x)\n",
    "x = tfkl.Dense(256, activation='relu', name='Dense_2', kernel_regularizer=regularizers.l1_l2(0.01))(x)\n",
    "x = tfkl.Dropout(0.2)(x)\n",
    "x = tfkl.Dense(128, activation='relu', name='Dense_3', kernel_regularizer=regularizers.l1_l2(0.01))(x)\n",
    "x = tfkl.Dropout(0.2)(x)\n",
    "x = tfkl.Dense(64, activation='relu', name='Dense_4', kernel_regularizer=regularizers.l1_l2(0.01))(x)\n",
    "x = tfkl.Dropout(0.2)(x)\n",
    "x = tfkl.Dense(16, activation='relu', name='Dense_5', kernel_regularizer=regularizers.l1_l2(0.01))(x)\n",
    "x = tfkl.Dropout(0.2)(x)\n",
    "output_layer = tfkl.Dense(1, activation='sigmoid', name='output')(x)\n",
    "\n",
    "model = tf.keras.Model(inputs=input_layer, outputs=output_layer)"
   ]
  },
  {
   "cell_type": "code",
   "execution_count": 12,
   "metadata": {
    "colab": {
     "base_uri": "https://localhost:8080/"
    },
    "id": "BFkokwZ1PN-X",
    "outputId": "9e2ec129-61f4-47fe-87a1-8975dcad2edf"
   },
   "outputs": [
    {
     "name": "stdout",
     "output_type": "stream",
     "text": [
      "Model: \"model\"\n",
      "_________________________________________________________________\n",
      " Layer (type)                Output Shape              Param #   \n",
      "=================================================================\n",
      " input_2 (InputLayer)        [(None, 96, 96, 3)]       0         \n",
      "                                                                 \n",
      " preprocessing (Sequential)  (None, 96, 96, 3)         0         \n",
      "                                                                 \n",
      " efficientnetv2-m (Function  (None, 1280)              53150388  \n",
      " al)                                                             \n",
      "                                                                 \n",
      " flattenLast (Flatten)       (None, 1280)              0         \n",
      "                                                                 \n",
      " dropout (Dropout)           (None, 1280)              0         \n",
      "                                                                 \n",
      " Dense_1 (Dense)             (None, 512)               655872    \n",
      "                                                                 \n",
      " dropout_1 (Dropout)         (None, 512)               0         \n",
      "                                                                 \n",
      " Dense_2 (Dense)             (None, 256)               131328    \n",
      "                                                                 \n",
      " dropout_2 (Dropout)         (None, 256)               0         \n",
      "                                                                 \n",
      " Dense_3 (Dense)             (None, 128)               32896     \n",
      "                                                                 \n",
      " dropout_3 (Dropout)         (None, 128)               0         \n",
      "                                                                 \n",
      " Dense_4 (Dense)             (None, 64)                8256      \n",
      "                                                                 \n",
      " dropout_4 (Dropout)         (None, 64)                0         \n",
      "                                                                 \n",
      " Dense_5 (Dense)             (None, 16)                1040      \n",
      "                                                                 \n",
      " dropout_5 (Dropout)         (None, 16)                0         \n",
      "                                                                 \n",
      " output (Dense)              (None, 1)                 17        \n",
      "                                                                 \n",
      "=================================================================\n",
      "Total params: 53979797 (205.92 MB)\n",
      "Trainable params: 52149133 (198.93 MB)\n",
      "Non-trainable params: 1830664 (6.98 MB)\n",
      "_________________________________________________________________\n"
     ]
    }
   ],
   "source": [
    "model.compile(loss=tfk.losses.BinaryCrossentropy(), optimizer=tfk.optimizers.AdamW(1e-5), metrics='accuracy')\n",
    "model.summary()"
   ]
  },
  {
   "cell_type": "code",
   "execution_count": 13,
   "metadata": {
    "id": "Qyv-LU3fUB2g"
   },
   "outputs": [],
   "source": [
    "early_stopping = tfk.callbacks.EarlyStopping(monitor='val_loss', patience=30, verbose=1, mode='min', restore_best_weights=True)"
   ]
  },
  {
   "cell_type": "code",
   "execution_count": 14,
   "metadata": {
    "id": "tN286d7yToOc"
   },
   "outputs": [],
   "source": [
    "model_checkpoint = tfk.callbacks.ModelCheckpoint('best_model_finetune.h5', monitor='val_accuracy', save_best_only=True, mode='max')"
   ]
  },
  {
   "cell_type": "code",
   "execution_count": 15,
   "metadata": {
    "colab": {
     "base_uri": "https://localhost:8080/"
    },
    "id": "hVanTcK3UMRR",
    "outputId": "b0f7ea9a-38b1-412b-ee9d-f06c670f9b1e"
   },
   "outputs": [
    {
     "name": "stdout",
     "output_type": "stream",
     "text": [
      "Class weights: {0: 0.81, 1: 1.29}\n"
     ]
    }
   ],
   "source": [
    "from sklearn.utils.class_weight import compute_class_weight\n",
    "#class_weights = compute_class_weight('balanced', classes=np.unique(y_train), y=y_train)\n",
    "#class_weights = compute_class_weight('balanced', classes=np.unique(labels), y=labels)\n",
    "class_weights_dict = {0: 0.81, 1: 1.29}\n",
    "\n",
    "print(f\"Class weights: {class_weights_dict}\")"
   ]
  },
  {
   "cell_type": "code",
   "execution_count": 16,
   "metadata": {
    "colab": {
     "base_uri": "https://localhost:8080/"
    },
    "id": "KWNqMePaUdoz",
    "outputId": "2b3273f8-595b-4962-f86e-c9314a626e1c"
   },
   "outputs": [
    {
     "name": "stdout",
     "output_type": "stream",
     "text": [
      "Epoch 1/30\n",
      "141/141 [==============================] - 124s 240ms/step - loss: 285.8959 - accuracy: 0.4302 - val_loss: 280.3513 - val_accuracy: 0.4232\n",
      "Epoch 2/30\n",
      "141/141 [==============================] - 29s 204ms/step - loss: 275.1396 - accuracy: 0.4468 - val_loss: 269.6559 - val_accuracy: 0.4850\n",
      "Epoch 3/30\n",
      "141/141 [==============================] - 29s 204ms/step - loss: 264.4569 - accuracy: 0.4619 - val_loss: 259.0540 - val_accuracy: 0.5250\n",
      "Epoch 4/30\n",
      "141/141 [==============================] - 23s 163ms/step - loss: 253.8908 - accuracy: 0.4695 - val_loss: 248.5713 - val_accuracy: 0.5070\n",
      "Epoch 5/30\n",
      "141/141 [==============================] - 23s 163ms/step - loss: 243.4644 - accuracy: 0.4699 - val_loss: 238.2341 - val_accuracy: 0.5150\n",
      "Epoch 6/30\n",
      "141/141 [==============================] - 29s 205ms/step - loss: 233.1954 - accuracy: 0.4737 - val_loss: 228.0535 - val_accuracy: 0.5449\n",
      "Epoch 7/30\n",
      "141/141 [==============================] - 29s 204ms/step - loss: 223.0988 - accuracy: 0.4783 - val_loss: 218.0535 - val_accuracy: 0.5529\n",
      "Epoch 8/30\n",
      "141/141 [==============================] - 29s 204ms/step - loss: 213.1779 - accuracy: 0.4908 - val_loss: 208.2380 - val_accuracy: 0.5868\n",
      "Epoch 9/30\n",
      "141/141 [==============================] - 29s 204ms/step - loss: 203.4541 - accuracy: 0.4890 - val_loss: 198.6145 - val_accuracy: 0.5968\n",
      "Epoch 10/30\n",
      "141/141 [==============================] - 29s 204ms/step - loss: 193.9334 - accuracy: 0.5265 - val_loss: 189.1920 - val_accuracy: 0.6926\n",
      "Epoch 11/30\n",
      "141/141 [==============================] - 29s 208ms/step - loss: 184.6248 - accuracy: 0.5601 - val_loss: 179.9936 - val_accuracy: 0.7405\n",
      "Epoch 12/30\n",
      "141/141 [==============================] - 29s 204ms/step - loss: 175.5441 - accuracy: 0.6131 - val_loss: 171.0349 - val_accuracy: 0.7605\n",
      "Epoch 13/30\n",
      "141/141 [==============================] - 29s 204ms/step - loss: 166.6973 - accuracy: 0.6485 - val_loss: 162.3098 - val_accuracy: 0.8024\n",
      "Epoch 14/30\n",
      "141/141 [==============================] - 29s 204ms/step - loss: 158.0956 - accuracy: 0.6802 - val_loss: 153.8195 - val_accuracy: 0.8244\n",
      "Epoch 15/30\n",
      "141/141 [==============================] - 29s 204ms/step - loss: 149.7326 - accuracy: 0.7018 - val_loss: 145.5683 - val_accuracy: 0.8283\n",
      "Epoch 16/30\n",
      "141/141 [==============================] - 29s 205ms/step - loss: 141.6152 - accuracy: 0.7202 - val_loss: 137.5659 - val_accuracy: 0.8383\n",
      "Epoch 17/30\n",
      "141/141 [==============================] - 23s 163ms/step - loss: 133.7357 - accuracy: 0.7457 - val_loss: 129.8148 - val_accuracy: 0.8303\n",
      "Epoch 18/30\n",
      "141/141 [==============================] - 23s 163ms/step - loss: 126.1129 - accuracy: 0.7606 - val_loss: 122.3229 - val_accuracy: 0.8303\n",
      "Epoch 19/30\n",
      "141/141 [==============================] - 23s 163ms/step - loss: 118.7492 - accuracy: 0.7590 - val_loss: 115.0603 - val_accuracy: 0.8283\n",
      "Epoch 20/30\n",
      "141/141 [==============================] - 29s 204ms/step - loss: 111.6334 - accuracy: 0.7730 - val_loss: 108.0630 - val_accuracy: 0.8483\n",
      "Epoch 21/30\n",
      "141/141 [==============================] - 23s 163ms/step - loss: 104.7825 - accuracy: 0.7777 - val_loss: 101.3339 - val_accuracy: 0.8483\n",
      "Epoch 22/30\n",
      "141/141 [==============================] - 23s 163ms/step - loss: 98.1863 - accuracy: 0.7919 - val_loss: 94.8676 - val_accuracy: 0.8443\n",
      "Epoch 23/30\n",
      "141/141 [==============================] - 23s 163ms/step - loss: 91.8551 - accuracy: 0.7957 - val_loss: 88.6641 - val_accuracy: 0.8463\n",
      "Epoch 24/30\n",
      "141/141 [==============================] - 23s 163ms/step - loss: 85.7822 - accuracy: 0.8059 - val_loss: 82.7315 - val_accuracy: 0.8363\n",
      "Epoch 25/30\n",
      "141/141 [==============================] - 29s 205ms/step - loss: 79.9773 - accuracy: 0.8112 - val_loss: 77.0599 - val_accuracy: 0.8543\n",
      "Epoch 26/30\n",
      "141/141 [==============================] - 23s 163ms/step - loss: 74.4277 - accuracy: 0.8201 - val_loss: 71.6370 - val_accuracy: 0.8543\n",
      "Epoch 27/30\n",
      "141/141 [==============================] - 29s 204ms/step - loss: 69.1404 - accuracy: 0.8201 - val_loss: 66.4778 - val_accuracy: 0.8603\n",
      "Epoch 28/30\n",
      "141/141 [==============================] - 23s 164ms/step - loss: 64.1102 - accuracy: 0.8286 - val_loss: 61.5805 - val_accuracy: 0.8583\n",
      "Epoch 29/30\n",
      "141/141 [==============================] - 29s 204ms/step - loss: 59.3428 - accuracy: 0.8310 - val_loss: 56.9452 - val_accuracy: 0.8623\n",
      "Epoch 30/30\n",
      "141/141 [==============================] - 29s 204ms/step - loss: 54.8377 - accuracy: 0.8301 - val_loss: 52.5699 - val_accuracy: 0.8703\n"
     ]
    }
   ],
   "source": [
    "batch_size=32\n",
    "epochs=30\n",
    "history = model.fit(\n",
    "    x=X_train,\n",
    "    y=y_train,\n",
    "    epochs=epochs,\n",
    "    batch_size=batch_size,\n",
    "    validation_data=(X_val, y_val),\n",
    "    class_weight=class_weights_dict,\n",
    "    callbacks=[model_checkpoint],\n",
    "    verbose=1\n",
    ")"
   ]
  },
  {
   "cell_type": "code",
   "execution_count": 23,
   "metadata": {},
   "outputs": [
    {
     "name": "stdout",
     "output_type": "stream",
     "text": [
      "Epoch 1/10\n",
      "282/282 [==============================] - 36s 127ms/step - loss: 0.8920 - accuracy: 0.9132 - val_loss: 0.8961 - val_accuracy: 0.9082\n",
      "Epoch 2/10\n",
      "282/282 [==============================] - 42s 148ms/step - loss: 0.8754 - accuracy: 0.9147 - val_loss: 0.8795 - val_accuracy: 0.9182\n",
      "Epoch 3/10\n",
      "282/282 [==============================] - 36s 128ms/step - loss: 0.8510 - accuracy: 0.9181 - val_loss: 0.8700 - val_accuracy: 0.9042\n",
      "Epoch 4/10\n",
      "282/282 [==============================] - 42s 147ms/step - loss: 0.8419 - accuracy: 0.9183 - val_loss: 0.8464 - val_accuracy: 0.9202\n",
      "Epoch 5/10\n",
      "282/282 [==============================] - 36s 127ms/step - loss: 0.8231 - accuracy: 0.9212 - val_loss: 0.8359 - val_accuracy: 0.9102\n",
      "Epoch 6/10\n",
      "282/282 [==============================] - 42s 147ms/step - loss: 0.8146 - accuracy: 0.9223 - val_loss: 0.8219 - val_accuracy: 0.9242\n",
      "Epoch 7/10\n",
      "282/282 [==============================] - 36s 127ms/step - loss: 0.8024 - accuracy: 0.9236 - val_loss: 0.8160 - val_accuracy: 0.8982\n",
      "Epoch 8/10\n",
      "282/282 [==============================] - 36s 126ms/step - loss: 0.7977 - accuracy: 0.9167 - val_loss: 0.7984 - val_accuracy: 0.9162\n",
      "Epoch 9/10\n",
      "282/282 [==============================] - 36s 126ms/step - loss: 0.7894 - accuracy: 0.9141 - val_loss: 0.7959 - val_accuracy: 0.9042\n",
      "Epoch 10/10\n",
      "282/282 [==============================] - 36s 126ms/step - loss: 0.7721 - accuracy: 0.9165 - val_loss: 0.7762 - val_accuracy: 0.9142\n"
     ]
    }
   ],
   "source": [
    "batch_size=16\n",
    "epochs=10\n",
    "history = model.fit(\n",
    "    x=X_train,\n",
    "    y=y_train,\n",
    "    epochs=epochs,\n",
    "    batch_size=batch_size,\n",
    "    validation_data=(X_val, y_val),\n",
    "    class_weight=class_weights_dict,\n",
    "    callbacks=[model_checkpoint],\n",
    "    verbose=1\n",
    ")"
   ]
  },
  {
   "cell_type": "code",
   "execution_count": 26,
   "metadata": {
    "colab": {
     "base_uri": "https://localhost:8080/"
    },
    "id": "98z5FdMNapF3",
    "outputId": "390f483f-af9d-4b59-e81c-52782bc1e7aa"
   },
   "outputs": [
    {
     "name": "stdout",
     "output_type": "stream",
     "text": [
      "141/141 [==============================] - 7s 51ms/step - loss: 0.7730 - accuracy: 0.9607\n",
      "Test loss: 0.7730275988578796\n",
      "Test accuracy: 0.9606928825378418\n"
     ]
    }
   ],
   "source": [
    "# Evaluate the model on the test set\n",
    "model.load_weights(\"best_model_finetune.h5\")\n",
    "test_loss, test_accuracy = model.evaluate(X_train, y_train, verbose=1)\n",
    "\n",
    "print(\"Test loss:\", test_loss)\n",
    "print(\"Test accuracy:\", test_accuracy)"
   ]
  },
  {
   "cell_type": "code",
   "execution_count": 27,
   "metadata": {},
   "outputs": [
    {
     "name": "stdout",
     "output_type": "stream",
     "text": [
      "16/16 [==============================] - 1s 51ms/step - loss: 0.8219 - accuracy: 0.9242\n",
      "Test loss: 0.8219051361083984\n",
      "Test accuracy: 0.9241517186164856\n"
     ]
    }
   ],
   "source": [
    "# Evaluate the model on the test set\n",
    "#model.load_weights(\"best_model.h5\")\n",
    "test_loss, test_accuracy = model.evaluate(X_val, y_val, verbose=1)\n",
    "\n",
    "print(\"Test loss:\", test_loss)\n",
    "print(\"Test accuracy:\", test_accuracy)"
   ]
  },
  {
   "cell_type": "code",
   "execution_count": 23,
   "metadata": {
    "colab": {
     "base_uri": "https://localhost:8080/"
    },
    "id": "1uO_4xZhkoaP",
    "outputId": "29ea876b-dae4-4bfc-f9a1-481fe9218c97"
   },
   "outputs": [
    {
     "name": "stdout",
     "output_type": "stream",
     "text": [
      "16/16 [==============================] - 1s 50ms/step - loss: 0.3705 - accuracy: 0.9242\n",
      "Test loss: 0.3704891800880432\n",
      "Test accuracy: 0.9241517186164856\n"
     ]
    }
   ],
   "source": [
    "# Evaluate the model on the test set\n",
    "#model.load_weights(\"best_model.h5\")\n",
    "test_loss, test_accuracy = model.evaluate(X_val, y_val, verbose=1)\n",
    "\n",
    "print(\"Test loss:\", test_loss)\n",
    "print(\"Test accuracy:\", test_accuracy)"
   ]
  },
  {
   "cell_type": "code",
   "execution_count": 28,
   "metadata": {
    "id": "nPHU6ljLsenc"
   },
   "outputs": [],
   "source": [
    "model.save('saved_model')"
   ]
  },
  {
   "cell_type": "code",
   "execution_count": 13,
   "metadata": {},
   "outputs": [],
   "source": [
    "model.load_weights(\"best_model.h5\")"
   ]
  },
  {
   "cell_type": "code",
   "execution_count": 24,
   "metadata": {},
   "outputs": [
    {
     "name": "stdout",
     "output_type": "stream",
     "text": [
      "Epoch 1/10\n",
      "32/32 [==============================] - 84s 524ms/step - loss: 0.6000 - accuracy: 0.8683 - val_loss: 0.1227 - val_accuracy: 0.9920\n",
      "Epoch 2/10\n",
      "32/32 [==============================] - 12s 376ms/step - loss: 0.5436 - accuracy: 0.8723 - val_loss: 0.1217 - val_accuracy: 0.9927\n",
      "Epoch 3/10\n",
      "32/32 [==============================] - 12s 378ms/step - loss: 0.5823 - accuracy: 0.8663 - val_loss: 0.1236 - val_accuracy: 0.9927\n",
      "Epoch 4/10\n",
      "32/32 [==============================] - 12s 380ms/step - loss: 0.5440 - accuracy: 0.8623 - val_loss: 0.1226 - val_accuracy: 0.9927\n",
      "Epoch 5/10\n",
      "32/32 [==============================] - 12s 377ms/step - loss: 0.4978 - accuracy: 0.8782 - val_loss: 0.1263 - val_accuracy: 0.9911\n",
      "Epoch 6/10\n",
      "32/32 [==============================] - 12s 378ms/step - loss: 0.4350 - accuracy: 0.8982 - val_loss: 0.1205 - val_accuracy: 0.9929\n",
      "Epoch 7/10\n",
      "32/32 [==============================] - 12s 378ms/step - loss: 0.4999 - accuracy: 0.8643 - val_loss: 0.1286 - val_accuracy: 0.9902\n",
      "Epoch 8/10\n",
      "32/32 [==============================] - 12s 379ms/step - loss: 0.4785 - accuracy: 0.8822 - val_loss: 0.1228 - val_accuracy: 0.9922\n",
      "Epoch 9/10\n",
      "32/32 [==============================] - 12s 378ms/step - loss: 0.6316 - accuracy: 0.8603 - val_loss: 0.1233 - val_accuracy: 0.9918\n",
      "Epoch 10/10\n",
      "32/32 [==============================] - 12s 380ms/step - loss: 0.3853 - accuracy: 0.8743 - val_loss: 0.1268 - val_accuracy: 0.9913\n"
     ]
    }
   ],
   "source": [
    "batch_size=16\n",
    "epochs=10\n",
    "model.compile(loss=tfk.losses.BinaryCrossentropy(), optimizer=tfk.optimizers.Adam(1e-6), metrics='accuracy')\n",
    "history = model.fit(\n",
    "    x=X_val,\n",
    "    y=y_val,\n",
    "    epochs=epochs,\n",
    "    batch_size=batch_size,\n",
    "    validation_data=(X_train, y_train),\n",
    "    class_weight=class_weights_dict,\n",
    "    verbose=1\n",
    ")"
   ]
  },
  {
   "cell_type": "code",
   "execution_count": 33,
   "metadata": {},
   "outputs": [],
   "source": [
    "model.save_weights(\"96-97_acc.h5\")"
   ]
  },
  {
   "cell_type": "code",
   "execution_count": 38,
   "metadata": {},
   "outputs": [],
   "source": [
    "model.save(\"saved_model\")"
   ]
  },
  {
   "cell_type": "code",
   "execution_count": 33,
   "metadata": {},
   "outputs": [
    {
     "name": "stdout",
     "output_type": "stream",
     "text": [
      "Embeddings shape: (1, 1280)\n"
     ]
    }
   ],
   "source": [
    "from keras.models import Model\n",
    "\n",
    "intermediate_layer = model.get_layer('flattenLast')\n",
    "\n",
    "# Create a new model with the selected intermediate layer as the output\n",
    "new_model = Model(inputs=model.input, outputs=intermediate_layer.output)\n",
    "\n",
    "# Get the embeddings for the example image\n",
    "embeddings = new_model(X_train[:1])\n",
    "\n",
    "print(\"Embeddings shape:\", embeddings.shape)"
   ]
  },
  {
   "cell_type": "code",
   "execution_count": 36,
   "metadata": {},
   "outputs": [
    {
     "data": {
      "text/plain": [
       "array([[0.9210138 ],\n",
       "       [0.9158238 ],\n",
       "       [0.92049253]], dtype=float32)"
      ]
     },
     "execution_count": 36,
     "metadata": {},
     "output_type": "execute_result"
    }
   ],
   "source": [
    "from sklearn.metrics.pairwise import cosine_similarity\n",
    "cosine_sim_matrix = cosine_similarity(new_model(X_train[:3]), new_model(X_train[3:4]))\n",
    "cosine_sim_matrix"
   ]
  },
  {
   "cell_type": "code",
   "execution_count": 37,
   "metadata": {},
   "outputs": [
    {
     "data": {
      "text/plain": [
       "array([[ 1.0000001 ,  0.884811  ,  0.84379697, ..., -0.5961801 ,\n",
       "         0.79545754,  0.8370678 ],\n",
       "       [ 0.884811  ,  1.0000004 ,  0.95030785, ..., -0.38202488,\n",
       "         0.9380702 ,  0.92915016],\n",
       "       [ 0.84379697,  0.95030785,  1.0000002 , ..., -0.28425545,\n",
       "         0.9600454 ,  0.9284129 ],\n",
       "       ...,\n",
       "       [-0.5961801 , -0.38202488, -0.28425545, ...,  1.        ,\n",
       "        -0.20630479, -0.33521122],\n",
       "       [ 0.79545754,  0.9380702 ,  0.9600454 , ..., -0.20630479,\n",
       "         1.0000001 ,  0.9270675 ],\n",
       "       [ 0.8370678 ,  0.92915016,  0.9284129 , ..., -0.33521122,\n",
       "         0.9270675 ,  0.9999999 ]], dtype=float32)"
      ]
     },
     "execution_count": 37,
     "metadata": {},
     "output_type": "execute_result"
    }
   ],
   "source": [
    "embeddings = new_model(images)\n",
    "\n",
    "# Step 3: Calculate Cosine Similarity\n",
    "similarity_matrix = cosine_similarity(embeddings)"
   ]
  },
  {
   "cell_type": "code",
   "execution_count": 60,
   "metadata": {},
   "outputs": [
    {
     "name": "stdout",
     "output_type": "stream",
     "text": [
      "157/157 [==============================] - 8s 48ms/step\n"
     ]
    }
   ],
   "source": [
    "probs = model.predict(images)"
   ]
  },
  {
   "cell_type": "code",
   "execution_count": 65,
   "metadata": {},
   "outputs": [
    {
     "data": {
      "text/plain": [
       "(5004,)"
      ]
     },
     "execution_count": 65,
     "metadata": {},
     "output_type": "execute_result"
    }
   ],
   "source": [
    "probs[:,0].shape"
   ]
  },
  {
   "cell_type": "code",
   "execution_count": 71,
   "metadata": {},
   "outputs": [],
   "source": [
    "sorted_indices = np.argsort(-probs[:,0])"
   ]
  },
  {
   "cell_type": "code",
   "execution_count": 73,
   "metadata": {},
   "outputs": [
    {
     "data": {
      "text/plain": [
       "array([[0.99034846],\n",
       "       [0.9879616 ],\n",
       "       [0.9867209 ],\n",
       "       [0.98564816],\n",
       "       [0.9852684 ],\n",
       "       [0.98370355],\n",
       "       [0.9834063 ],\n",
       "       [0.9821669 ],\n",
       "       [0.9819166 ],\n",
       "       [0.98140407]], dtype=float32)"
      ]
     },
     "execution_count": 73,
     "metadata": {},
     "output_type": "execute_result"
    }
   ],
   "source": [
    "probs[sorted_indices[:10]]"
   ]
  },
  {
   "cell_type": "code",
   "execution_count": 74,
   "metadata": {},
   "outputs": [
    {
     "data": {
      "text/plain": [
       "array([ 804, 2291, 2940, 2739,  209,   96,  423, 3350, 3836, 2734])"
      ]
     },
     "execution_count": 74,
     "metadata": {},
     "output_type": "execute_result"
    }
   ],
   "source": [
    "sorted_indices[:10]"
   ]
  },
  {
   "cell_type": "code",
   "execution_count": null,
   "metadata": {},
   "outputs": [],
   "source": [
    "predictions = [1 if pred > 0.5 else 0 for pred in predictions]"
   ]
  },
  {
   "cell_type": "code",
   "execution_count": 86,
   "metadata": {},
   "outputs": [],
   "source": [
    "mislabeled_indices = np.where((predictions != labels) & (labels == 1))[0]"
   ]
  },
  {
   "cell_type": "code",
   "execution_count": 87,
   "metadata": {},
   "outputs": [],
   "source": [
    "mislabeled_imgs = images[mislabeled_indices]"
   ]
  },
  {
   "cell_type": "code",
   "execution_count": 88,
   "metadata": {},
   "outputs": [],
   "source": [
    "msl_predictions = new_model(mislabeled_imgs)"
   ]
  },
  {
   "cell_type": "code",
   "execution_count": 76,
   "metadata": {},
   "outputs": [],
   "source": [
    "dist_embeddings = new_model(images[sorted_indices[:10]])"
   ]
  },
  {
   "cell_type": "code",
   "execution_count": 89,
   "metadata": {},
   "outputs": [],
   "source": [
    "sim_m = cosine_similarity(msl_predictions, dist_embeddings)"
   ]
  },
  {
   "cell_type": "code",
   "execution_count": 90,
   "metadata": {},
   "outputs": [
    {
     "data": {
      "text/plain": [
       "(151, 10)"
      ]
     },
     "execution_count": 90,
     "metadata": {},
     "output_type": "execute_result"
    }
   ],
   "source": [
    "sim_m.shape"
   ]
  },
  {
   "cell_type": "code",
   "execution_count": 92,
   "metadata": {},
   "outputs": [
    {
     "name": "stdout",
     "output_type": "stream",
     "text": [
      "0.9807346\n",
      "0.96228737\n",
      "0.9423652\n",
      "0.99145913\n",
      "0.9948994\n",
      "0.99623567\n",
      "0.9845739\n",
      "0.94965637\n",
      "0.98275465\n",
      "0.97669923\n",
      "0.93783194\n",
      "0.9158164\n",
      "0.91619456\n",
      "0.928523\n",
      "0.99519205\n",
      "0.9948138\n",
      "0.9923296\n",
      "0.9918233\n",
      "0.9895495\n",
      "0.9444544\n",
      "0.9237901\n",
      "0.9669758\n",
      "0.94057655\n",
      "0.95045507\n",
      "0.9883579\n",
      "0.9959743\n",
      "0.9915093\n",
      "0.6564909\n",
      "0.9800378\n",
      "0.9554721\n",
      "0.9706751\n",
      "0.9870877\n",
      "0.9940381\n",
      "0.80235994\n",
      "0.587065\n",
      "0.3121146\n",
      "0.9646051\n",
      "0.7997391\n",
      "0.99345064\n",
      "0.9941846\n",
      "0.923667\n",
      "0.9605049\n",
      "0.9534553\n",
      "0.95862633\n",
      "0.5778718\n",
      "0.9774114\n",
      "0.9311223\n",
      "0.9336894\n",
      "0.9886695\n",
      "0.99656165\n",
      "0.85372055\n",
      "0.91917145\n",
      "0.95877135\n",
      "0.9660882\n",
      "0.9931451\n",
      "0.99248946\n",
      "0.9962543\n",
      "0.8905393\n",
      "0.9918245\n",
      "0.9936083\n",
      "0.44616234\n",
      "0.9437507\n",
      "0.9798285\n",
      "0.90647894\n",
      "0.9614972\n",
      "0.5294775\n",
      "0.9914633\n",
      "0.938882\n",
      "0.94660854\n",
      "0.89864135\n",
      "0.99053776\n",
      "0.5944795\n",
      "0.95937335\n",
      "0.94885933\n",
      "0.9723991\n",
      "0.9492033\n",
      "0.97186923\n",
      "0.9448581\n",
      "0.9951218\n",
      "0.9945717\n",
      "0.991589\n",
      "0.9543682\n",
      "0.99386996\n",
      "0.9954542\n",
      "0.95208156\n",
      "0.9624305\n",
      "0.99160886\n",
      "0.9704664\n",
      "0.99054736\n",
      "0.8164587\n",
      "0.9673587\n",
      "0.9612248\n",
      "0.9912182\n",
      "0.9114741\n",
      "0.7568513\n",
      "0.98157084\n",
      "0.6950026\n",
      "0.9420578\n",
      "0.9914843\n",
      "0.9930672\n",
      "0.89766264\n",
      "0.99014354\n",
      "0.9958967\n",
      "0.8961363\n",
      "0.5057822\n",
      "0.8453641\n",
      "0.7936729\n",
      "0.99308914\n",
      "0.72695756\n",
      "0.97717613\n",
      "0.99462515\n",
      "0.9802415\n",
      "0.96177423\n",
      "0.9812113\n",
      "0.9514357\n",
      "0.8777991\n",
      "0.95921874\n",
      "0.9509872\n",
      "0.7628186\n",
      "0.9946803\n",
      "0.97413754\n",
      "0.99283737\n",
      "0.81372434\n",
      "0.9962764\n",
      "0.8864713\n",
      "0.69268566\n",
      "0.86274755\n",
      "0.80815864\n",
      "0.3479543\n",
      "0.5156007\n",
      "0.9641053\n",
      "0.75548136\n",
      "0.9526546\n",
      "0.9133835\n",
      "0.8373492\n",
      "0.99538934\n",
      "0.45599902\n",
      "0.9607242\n",
      "0.8765248\n",
      "0.8990685\n",
      "0.71629673\n",
      "0.9602477\n",
      "0.9822507\n",
      "0.992848\n",
      "0.95525724\n",
      "0.99507695\n",
      "0.9865587\n",
      "0.6583512\n",
      "0.31265578\n",
      "0.94822097\n",
      "0.95426315\n"
     ]
    }
   ],
   "source": [
    "for sim in sim_m:\n",
    "    print(np.max(sim))"
   ]
  },
  {
   "cell_type": "code",
   "execution_count": null,
   "metadata": {},
   "outputs": [],
   "source": []
  }
 ],
 "metadata": {
  "accelerator": "GPU",
  "colab": {
   "gpuType": "T4",
   "provenance": []
  },
  "kernelspec": {
   "display_name": "Python 3 (ipykernel)",
   "language": "python",
   "name": "python3"
  },
  "language_info": {
   "codemirror_mode": {
    "name": "ipython",
    "version": 3
   },
   "file_extension": ".py",
   "mimetype": "text/x-python",
   "name": "python",
   "nbconvert_exporter": "python",
   "pygments_lexer": "ipython3",
   "version": "3.10.13"
  }
 },
 "nbformat": 4,
 "nbformat_minor": 4
}
